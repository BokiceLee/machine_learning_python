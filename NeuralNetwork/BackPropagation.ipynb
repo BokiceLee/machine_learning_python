{
 "cells": [
  {
   "cell_type": "code",
   "execution_count": 63,
   "metadata": {
    "collapsed": true
   },
   "outputs": [],
   "source": [
    "#交叉验证:同一个数据集使用不同的数据作为训练集和测试集"
   ]
  },
  {
   "cell_type": "code",
   "execution_count": 64,
   "metadata": {
    "collapsed": true
   },
   "outputs": [],
   "source": [
    "import numpy as np\n",
    "def tanh(x):\n",
    "    return np.tanh(x)\n",
    "def tanh_deriv(x):\n",
    "    return 1.0-np.tanh(x)*np.tanh(x)\n",
    "def logistic(x):\n",
    "    return 1/(1+np.exp(-x))\n",
    "def logistic_derivative(x):\n",
    "    return logistic(x)*(1-logistic(x))"
   ]
  },
  {
   "cell_type": "code",
   "execution_count": 87,
   "metadata": {
    "collapsed": false
   },
   "outputs": [],
   "source": [
    "class NeuralNetwork:\n",
    "    def __init__(self,layers,activation='tanh'):\n",
    "        #设置激励函数\n",
    "        if activation=='logistic':\n",
    "            self.activation=logistic\n",
    "            self.activation_deriv=logistic_derivative\n",
    "        elif activation=='tanh':\n",
    "            self.activation=tanh\n",
    "            self.activation_deriv=tanh_deriv\n",
    "        self.weights=[]\n",
    "        for i in range(1,len(layers)-1):#单隐层随机权重初始化\n",
    "            #隐藏层与上一层的连接权重\n",
    "            self.weights.append((2*np.random.random((layers[i-1]+1,layers[i]+1))-1)*1)\n",
    "            #隐藏层与下一层的连接权重\n",
    "            self.weights.append((2*np.random.random((layers[i]+1,layers[i+1]))-1)*1)\n",
    "    def fit(self,X,y,learning_rate=0.2,epochs=10000):\n",
    "        X=np.atleast_2d(X)#没作用？将输入转化为ndarray\n",
    "        temp=np.ones([X.shape[0],X.shape[1]+1])\n",
    "        temp[:,0:-1]=X\n",
    "        X=temp#X右边加上一列bias\n",
    "        y=np.array(y)#y转化为ndrray\n",
    "        for k in range(epochs):#开始迭代\n",
    "            i=np.random.randint(X.shape[0])\n",
    "            a=[X[i]]#随机选一个样本\n",
    "            for l in range(len(self.weights)):#每层前向传播\n",
    "                a.append(self.activation(np.dot(a[l],self.weights[l])))#a为输出矩阵\n",
    "            error=y[i]-a[-1]#输出误差\n",
    "            deltas=[error*self.activation_deriv(a[-1])]#输出层误差：直接减\n",
    "            for l in range(len(a)-2,0,-1):#隐藏层误差：减完×导数\n",
    "                deltas.append(deltas[-1].dot(self.weights[l].T)*self.activation_deriv(a[l]))\n",
    "            deltas.reverse()\n",
    "            for i in range(len(self.weights)):#权值更新\n",
    "                layer=np.atleast_2d(a[i])\n",
    "                delta=np.atleast_2d(deltas[i])\n",
    "                self.weights[i]+=learning_rate*layer.T.dot(delta)#前面的delta项中已经乘了f'项\n",
    "                #d(error)/d(w)=d(error)/d(a)*d(a)/d(z)*d(z)/d(w)  a为最终输出，z为原始输出 \n",
    "                            #=delta*f'*x(x为输入，f'为激励函数)\n",
    "    def predict(self,x):\n",
    "        x=np.array(x)\n",
    "        temp=np.ones(x.shape[0]+1)\n",
    "        temp[0:-1]=x\n",
    "        a=temp#输入加bias列\n",
    "        for l in range(0,len(self.weights)):#前向传播\n",
    "            a=self.activation(np.dot(a,self.weights[l]))\n",
    "        return a"
   ]
  },
  {
   "cell_type": "code",
   "execution_count": 88,
   "metadata": {
    "collapsed": false
   },
   "outputs": [
    {
     "name": "stdout",
     "output_type": "stream",
     "text": [
      "[0, 0] [ 0.99730168]\n",
      "[0, 1] [ 0.00131379]\n",
      "[1, 0] [ 0.00105461]\n",
      "[1, 1] [ 0.9964459]\n"
     ]
    }
   ],
   "source": [
    "#test\n",
    "nn=NeuralNetwork([2,2,1],'tanh')\n",
    "x=np.array([[0,0],[0,1],[1,0],[1,1]])\n",
    "y=np.array([1,0,0,1])\n",
    "nn.fit(x,y,0.1,10000)\n",
    "for i in [[0,0],[0,1],[1,0],[1,1]]:\n",
    "    print(i,nn.predict(i))"
   ]
  },
  {
   "cell_type": "code",
   "execution_count": null,
   "metadata": {
    "collapsed": false
   },
   "outputs": [],
   "source": []
  },
  {
   "cell_type": "code",
   "execution_count": null,
   "metadata": {
    "collapsed": true
   },
   "outputs": [],
   "source": []
  }
 ],
 "metadata": {
  "kernelspec": {
   "display_name": "Python 3",
   "language": "python",
   "name": "python3"
  },
  "language_info": {
   "codemirror_mode": {
    "name": "ipython",
    "version": 3
   },
   "file_extension": ".py",
   "mimetype": "text/x-python",
   "name": "python",
   "nbconvert_exporter": "python",
   "pygments_lexer": "ipython3",
   "version": "3.5.2"
  }
 },
 "nbformat": 4,
 "nbformat_minor": 2
}
