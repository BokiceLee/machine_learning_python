{
 "cells": [
  {
   "cell_type": "code",
   "execution_count": 1,
   "metadata": {
    "collapsed": true
   },
   "outputs": [],
   "source": [
    "#1.距离度量方法\n",
    "    #明氏距离\n",
    "        #曼哈顿距离，城市街区距离L1范数\n",
    "        #欧式距离L2范数\n",
    "        #切比雪夫距离\n",
    "    #夹角余弦\n",
    "    #汉明距离（最小替换次数）\n",
    "    #杰卡德相似系数(交集/并集)，杰卡德距离(1-杰卡德相似系数)\n",
    "    #马氏距离\n",
    "        #sqrt((x-u)'S^-1(x-u))\n",
    "        #其中u为中心，S^-1为协方差矩阵的逆\n",
    "        #特点：\n",
    "            #1.测量单位无关\n",
    "            #2.标准化数据与中心化数据计算得到的距离相同\n",
    "            #3.排除变量之间相关性的干扰\n",
    "#2.决策规则，多个类别投票数相同\n",
    "    #1.随机选取\n",
    "    #2.距离加权\n",
    "    #3.减少K个数，找到唯一高票"
   ]
  },
  {
   "cell_type": "code",
   "execution_count": 6,
   "metadata": {
    "collapsed": true
   },
   "outputs": [],
   "source": [
    "#策略3\n",
    "def majority_vote(labels):\n",
    "    \"\"\"assumes that labels are ordered from nearest to farthest \"\"\"\n",
    "    vote_counts = Counter(labels)#前k个标签\n",
    "    winner,winner_count = vote_counts.most_common(1)[0]#得票最多的标签\n",
    "    num_winners = len([count for count in vote_counts.values() if count == winner_count])#得票最多的所有标签\n",
    "    if num_winners == 1:\n",
    "        return winner\n",
    "    else:\n",
    "        return majority_vote(labels[:-1])#前k-1个标签中得票最多的标签"
   ]
  },
  {
   "cell_type": "code",
   "execution_count": null,
   "metadata": {
    "collapsed": false
   },
   "outputs": [],
   "source": []
  },
  {
   "cell_type": "code",
   "execution_count": null,
   "metadata": {
    "collapsed": true
   },
   "outputs": [],
   "source": []
  }
 ],
 "metadata": {
  "kernelspec": {
   "display_name": "Python 3",
   "language": "python",
   "name": "python3"
  },
  "language_info": {
   "codemirror_mode": {
    "name": "ipython",
    "version": 3
   },
   "file_extension": ".py",
   "mimetype": "text/x-python",
   "name": "python",
   "nbconvert_exporter": "python",
   "pygments_lexer": "ipython3",
   "version": "3.5.2"
  }
 },
 "nbformat": 4,
 "nbformat_minor": 2
}
