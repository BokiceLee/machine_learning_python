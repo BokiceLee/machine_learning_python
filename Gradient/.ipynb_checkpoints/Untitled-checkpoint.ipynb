{
 "cells": [
  {
   "cell_type": "code",
   "execution_count": 1,
   "metadata": {
    "collapsed": true
   },
   "outputs": [],
   "source": [
    "def sum_of_squres(v):#计算向量平方和\n",
    "    return sum(v_i**2 for v_i in v)"
   ]
  },
  {
   "cell_type": "code",
   "execution_count": 3,
   "metadata": {
    "collapsed": true
   },
   "outputs": [],
   "source": [
    "from __future__ import division\n",
    "def difference_quotient(f,x,h):#一元函数梯度\n",
    "    return (f(x+h)-f(x))/h"
   ]
  },
  {
   "cell_type": "code",
   "execution_count": 1,
   "metadata": {
    "collapsed": true
   },
   "outputs": [],
   "source": [
    "#多元函数梯度\n",
    "def partial_difference_quotient(f,v,i,h):\n",
    "    w=[v_j+(h if j==i else 0)\n",
    "        for j,v_j in enumerate(v)]\n",
    "    return (f(w)-f(v))/h\n",
    "def estimate_gradient(f,v,h=0.00001):\n",
    "    return [partial_difference_quotient(f,v,i,h) for i,_ in enumerate(v)]"
   ]
  },
  {
   "cell_type": "code",
   "execution_count": 14,
   "metadata": {
    "collapsed": false
   },
   "outputs": [
    {
     "name": "stdout",
     "output_type": "stream",
     "text": [
      "随机起点 [2, 4, 7]\n"
     ]
    }
   ],
   "source": [
    "#简单例子\n",
    "#移动\n",
    "def step(v,direction,step_size):\n",
    "    return [v_i +step_size*direction_i for v_i,direction_i in zip(v,direction)]\n",
    "#梯度\n",
    "def sum_of_squares_gradient(v):\n",
    "    return [2*v_i for v_i in v]\n",
    "#随机起点\n",
    "import random\n",
    "v=[random.randint(-10,10) for i in range(3)]\n",
    "print(\"随机起点\",v)\n",
    "#变量距离\n",
    "def vector_substract(v,w):\n",
    "    return [v_i-w_i for v_i,w_i in zip(v,w)]\n",
    "def dot(v,w):\n",
    "    return sum(v_i*w_i for v_i,w_i in zip(v,w))\n",
    "def sum_of_squares(v):\n",
    "    return dot(v,v)\n",
    "def distance(v,w):\n",
    "    return sum_of_squares(vector_substract(v,w))"
   ]
  },
  {
   "cell_type": "code",
   "execution_count": 15,
   "metadata": {
    "collapsed": false
   },
   "outputs": [
    {
     "name": "stdout",
     "output_type": "stream",
     "text": [
      "[0.0003733465693387307, 0.0007466931386774614, 0.0013067129926855583] 426\n"
     ]
    }
   ],
   "source": [
    "tolerance=0.000000001\n",
    "max_ier=100000\n",
    "iter_=1\n",
    "while True:\n",
    "    gradient=sum_of_squares_gradient(v)#梯度方向\n",
    "    next_v=step(v,gradient,-0.01)\n",
    "    if(distance(next_v,v)<tolerance or iter_>max_ier):\n",
    "        break\n",
    "    v=next_v\n",
    "    iter_+=1\n",
    "print(v,iter_)"
   ]
  },
  {
   "cell_type": "code",
   "execution_count": null,
   "metadata": {
    "collapsed": true
   },
   "outputs": [],
   "source": []
  }
 ],
 "metadata": {
  "kernelspec": {
   "display_name": "Python 3",
   "language": "python",
   "name": "python3"
  },
  "language_info": {
   "codemirror_mode": {
    "name": "ipython",
    "version": 3
   },
   "file_extension": ".py",
   "mimetype": "text/x-python",
   "name": "python",
   "nbconvert_exporter": "python",
   "pygments_lexer": "ipython3",
   "version": "3.5.2"
  }
 },
 "nbformat": 4,
 "nbformat_minor": 2
}
