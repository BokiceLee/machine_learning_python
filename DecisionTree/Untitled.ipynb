{
 "cells": [
  {
   "cell_type": "markdown",
   "metadata": {},
   "source": [
    "1.特征选择\n",
    "\n",
    "\n",
    "    1.信息增益\n",
    "    2.熵\n",
    "    3.条件熵\n",
    "    4.信息增益率\n",
    "    5.基尼指数\n",
    "    \n",
    "    \n",
    "2.决策树生成\n",
    "\n",
    "\n",
    "    1.ID3算法\n",
    "    2.C4.5算法\n",
    "    3.CART算法\n"
   ]
  },
  {
   "cell_type": "code",
   "execution_count": null,
   "metadata": {
    "collapsed": true
   },
   "outputs": [],
   "source": []
  }
 ],
 "metadata": {
  "kernelspec": {
   "display_name": "Python 3",
   "language": "python",
   "name": "python3"
  },
  "language_info": {
   "codemirror_mode": {
    "name": "ipython",
    "version": 3
   },
   "file_extension": ".py",
   "mimetype": "text/x-python",
   "name": "python",
   "nbconvert_exporter": "python",
   "pygments_lexer": "ipython3",
   "version": "3.5.2"
  }
 },
 "nbformat": 4,
 "nbformat_minor": 2
}
